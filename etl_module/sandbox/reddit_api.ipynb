{
 "cells": [
  {
   "attachments": {},
   "cell_type": "markdown",
   "metadata": {},
   "source": [
    "To test how to correctly use reddit api - to get information about posts, image in a post, maybe title upvotes date of posting? Even further, we can try to make a dummy account to post memes if we wish to store them there (if a user decides to insert their own image)"
   ]
  },
  {
   "cell_type": "code",
   "execution_count": null,
   "metadata": {},
   "outputs": [],
   "source": []
  }
 ],
 "metadata": {
  "language_info": {
   "name": "python"
  },
  "orig_nbformat": 4
 },
 "nbformat": 4,
 "nbformat_minor": 2
}
